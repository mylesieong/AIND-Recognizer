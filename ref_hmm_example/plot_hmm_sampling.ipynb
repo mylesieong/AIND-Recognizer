{
 "cells": [
  {
   "cell_type": "code",
   "execution_count": 11,
   "metadata": {
    "collapsed": false
   },
   "outputs": [],
   "source": [
    "%matplotlib inline"
   ]
  },
  {
   "cell_type": "markdown",
   "metadata": {},
   "source": [
    "\n",
    "Sampling from HMM\n",
    "-----------------\n",
    "\n",
    "This script shows how to sample points from a Hiden Markov Model (HMM):\n",
    "we use a 4-components with specified mean and covariance.\n",
    "\n",
    "The plot show the sequence of observations generated with the transitions\n",
    "between them. We can see that, as specified by our transition matrix,\n",
    "there are no transition between component 1 and 3.\n",
    "\n"
   ]
  },
  {
   "cell_type": "code",
   "execution_count": 12,
   "metadata": {
    "collapsed": false
   },
   "outputs": [
    {
     "name": "stdout",
     "output_type": "stream",
     "text": [
      "Automatically created module for IPython interactive environment\n"
     ]
    }
   ],
   "source": [
    "print(__doc__)\n",
    "\n",
    "import numpy as np\n",
    "import matplotlib.pyplot as plt\n",
    "\n",
    "from hmmlearn import hmm"
   ]
  },
  {
   "cell_type": "markdown",
   "metadata": {},
   "source": [
    "Prepare parameters for a 4-components HMM\n",
    "Initial population probability\n",
    "\n"
   ]
  },
  {
   "cell_type": "code",
   "execution_count": 24,
   "metadata": {
    "collapsed": false
   },
   "outputs": [
    {
     "name": "stdout",
     "output_type": "stream",
     "text": [
      "[[[ 0.5  0. ]\n",
      "  [ 0.   0.5]]\n",
      "\n",
      " [[ 0.5  0. ]\n",
      "  [ 0.   0.5]]\n",
      "\n",
      " [[ 0.5  0. ]\n",
      "  [ 0.   0.5]]\n",
      "\n",
      " [[ 0.5  0. ]\n",
      "  [ 0.   0.5]]]\n"
     ]
    }
   ],
   "source": [
    "startprob = np.array([0.6, 0.3, 0.1, 0.0])\n",
    "# The transition matrix, note that there are no transitions possible\n",
    "# between component 1 and 3\n",
    "transmat = np.array([[0.7, 0.2, 0.0, 0.1],\n",
    "                     [0.3, 0.5, 0.2, 0.0],\n",
    "                     [0.0, 0.3, 0.5, 0.2],\n",
    "                     [0.2, 0.0, 0.2, 0.6]])\n",
    "# The means of each component\n",
    "means = np.array([[0.0,  0.0],\n",
    "                  [0.0, 11.0],\n",
    "                  [9.0, 10.0],\n",
    "                  [11.0, -1.0]])\n",
    "# The covariance of each component\n",
    "covars = .5 * np.tile(np.identity(2), (4, 1, 1))\n",
    "\n",
    "print(\"The Covariances: \".format(covars)\n",
    "\n",
    "# Build an HMM instance and set parameters\n",
    "model = hmm.GaussianHMM(n_components=4, covariance_type=\"full\")\n",
    "\n",
    "## Cant we score here?\n",
    "stublist = [\n",
    "    [],\n",
    "    [],\n",
    "    [],\n",
    "    []\n",
    "]\n",
    "print(\"Score a stub list list: {}\".format(stublist))\n",
    "print(\"Score with model: {}\".format(model.score(stublist)))\n",
    "      \n",
    "# Instead of fitting it from the data, we directly set the estimated\n",
    "# parameters, the means and covariance of the components\n",
    "model.startprob_ = startprob\n",
    "model.transmat_ = transmat\n",
    "model.means_ = means\n",
    "model.covars_ = covars"
   ]
  },
  {
   "cell_type": "code",
   "execution_count": 23,
   "metadata": {
    "collapsed": false
   },
   "outputs": [
    {
     "name": "stdout",
     "output_type": "stream",
     "text": [
      "[[ -0.57687498   1.35228951]\n",
      " [  0.72787488   1.29848566]\n",
      " [ -0.04781807   0.18630642]\n",
      " [ 10.25594665  -1.17458272]\n",
      " [  0.7182189   -0.69757998]\n",
      " [ -1.14077388   1.6988494 ]\n",
      " [ -0.89987799   0.57511486]\n",
      " [  0.24665903   0.52308338]\n",
      " [  0.84232125  -1.29339382]\n",
      " [ -0.08746568  -0.61364562]\n",
      " [  1.18367269  -0.45165987]\n",
      " [  0.13524439  -0.75891152]\n",
      " [  0.45785896  -3.04101964]\n",
      " [  0.48212362   9.69848641]\n",
      " [ -0.16092821  10.30819491]\n",
      " [ -1.24351232   0.75373166]\n",
      " [ 10.78219085  -1.45568347]\n",
      " [ 10.0977948   -0.59027169]\n",
      " [ -0.07791923  -0.93398204]\n",
      " [  1.07023576   0.4675951 ]]\n",
      "[0 0 0 3 0 0 0 0 0 0 0 0 0 1 1 0 3 3 0 0]\n"
     ]
    },
    {
     "data": {
      "image/png": "[encoded data removed]",
      "text/plain": [
       "<matplotlib.figure.Figure at 0xa5b6990>"
      ]
     },
     "metadata": {},
     "output_type": "display_data"
    }
   ],
   "source": [
    "import warnings\n",
    "warnings.filterwarnings(\"ignore\", category=DeprecationWarning)\n",
    "    \n",
    "# Generate samples\n",
    "X, Z = model.sample(20)\n",
    "\n",
    "print(X)\n",
    "print(Z)\n",
    "\n",
    "# Plot the sampled data\n",
    "plt.plot(X[:, 0], X[:, 1], \".-\", label=\"observations\", ms=6,\n",
    "         mfc=\"orange\", alpha=0.7)\n",
    "\n",
    "# Indicate the component numbers\n",
    "for i, m in enumerate(means):\n",
    "    plt.text(m[0], m[1], 'Component %i' % (i + 1),\n",
    "             size=17, horizontalalignment='center',\n",
    "             bbox=dict(alpha=.7, facecolor='w'))\n",
    "plt.legend(loc='best')\n",
    "plt.show()"
   ]
  }
 ],
 "metadata": {
  "kernelspec": {
   "display_name": "Python 3",
   "language": "python",
   "name": "python3"
  },
  "language_info": {
   "codemirror_mode": {
    "name": "ipython",
    "version": 3
   },
   "file_extension": ".py",
   "mimetype": "text/x-python",
   "name": "python",
   "nbconvert_exporter": "python",
   "pygments_lexer": "ipython3",
   "version": "3.6.0"
  }
 },
 "nbformat": 4,
 "nbformat_minor": 0
}
